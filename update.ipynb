{
 "cells": [
  {
   "cell_type": "code",
   "execution_count": 1,
   "metadata": {},
   "outputs": [
    {
     "name": "stdout",
     "output_type": "stream",
     "text": [
      "True\n",
      "1\n",
      "NVIDIA GeForce RTX 3060\n",
      "tensor([[0.1065, 0.8846, 0.4691],\n",
      "        [0.0318, 0.9331, 0.3613],\n",
      "        [0.9544, 0.5852, 0.9403],\n",
      "        [0.7763, 0.8430, 0.4967],\n",
      "        [0.2397, 0.3046, 0.2095]], device='cuda:0')\n"
     ]
    }
   ],
   "source": [
    "# Method 1\n",
    "import torch\n",
    "print(torch.cuda.is_available())\n",
    "print(torch.cuda.device_count())\n",
    "print(torch.cuda.get_device_name(0))\n",
    "\n",
    "# Method 2\n",
    "x = torch.rand(5,3)\n",
    "print(x.cuda())  # Should show tensor on CUDA device if working"
   ]
  },
  {
   "cell_type": "code",
   "execution_count": null,
   "metadata": {},
   "outputs": [],
   "source": [
    "#download for cuda 11.1\n",
    "\n",
    "\n",
    "!pip install torch==2.4.1+cu118 torchvision==0.19.1+cu118 torchaudio==2.4.1+cu118 --index-url https://download.pytorch.org/whl/cu118"
   ]
  }
 ],
 "metadata": {
  "kernelspec": {
   "display_name": ".venv",
   "language": "python",
   "name": "python3"
  },
  "language_info": {
   "codemirror_mode": {
    "name": "ipython",
    "version": 3
   },
   "file_extension": ".py",
   "mimetype": "text/x-python",
   "name": "python",
   "nbconvert_exporter": "python",
   "pygments_lexer": "ipython3",
   "version": "3.12.3"
  }
 },
 "nbformat": 4,
 "nbformat_minor": 2
}
