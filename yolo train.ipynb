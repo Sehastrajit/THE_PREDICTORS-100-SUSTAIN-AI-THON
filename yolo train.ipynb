{
  "cells": [
    {
      "cell_type": "code",
      "execution_count": 1,
      "metadata": {
        "colab": {
          "base_uri": "https://localhost:8080/"
        },
        "id": "Ysa7Gh1RhMr3",
        "outputId": "602a0bae-6c6d-4959-f87e-7b388635477f"
      },
      "outputs": [
        {
          "name": "stdout",
          "output_type": "stream",
          "text": [
            "Collecting tiktoken\n",
            "  Downloading tiktoken-0.8.0-cp312-cp312-win_amd64.whl.metadata (6.8 kB)\n",
            "Collecting regex>=2022.1.18 (from tiktoken)\n",
            "  Downloading regex-2024.11.6-cp312-cp312-win_amd64.whl.metadata (41 kB)\n",
            "Requirement already satisfied: requests>=2.26.0 in d:\\projects\\the_predictors-100-sustain-ai-thon\\.venv\\lib\\site-packages (from tiktoken) (2.32.3)\n",
            "Requirement already satisfied: charset-normalizer<4,>=2 in d:\\projects\\the_predictors-100-sustain-ai-thon\\.venv\\lib\\site-packages (from requests>=2.26.0->tiktoken) (3.4.1)\n",
            "Requirement already satisfied: idna<4,>=2.5 in d:\\projects\\the_predictors-100-sustain-ai-thon\\.venv\\lib\\site-packages (from requests>=2.26.0->tiktoken) (3.10)\n",
            "Requirement already satisfied: urllib3<3,>=1.21.1 in d:\\projects\\the_predictors-100-sustain-ai-thon\\.venv\\lib\\site-packages (from requests>=2.26.0->tiktoken) (2.3.0)\n",
            "Requirement already satisfied: certifi>=2017.4.17 in d:\\projects\\the_predictors-100-sustain-ai-thon\\.venv\\lib\\site-packages (from requests>=2.26.0->tiktoken) (2024.12.14)\n",
            "Downloading tiktoken-0.8.0-cp312-cp312-win_amd64.whl (883 kB)\n",
            "   ---------------------------------------- 0.0/883.8 kB ? eta -:--:--\n",
            "   ----------------------- ---------------- 524.3/883.8 kB 3.4 MB/s eta 0:00:01\n",
            "   ---------------------------------------- 883.8/883.8 kB 5.7 MB/s eta 0:00:00\n",
            "Downloading regex-2024.11.6-cp312-cp312-win_amd64.whl (273 kB)\n",
            "Installing collected packages: regex, tiktoken\n",
            "Successfully installed regex-2024.11.6 tiktoken-0.8.0\n"
          ]
        }
      ],
      "source": [
        "!pip install tiktoken"
      ]
    },
    {
      "cell_type": "code",
      "execution_count": 2,
      "metadata": {
        "colab": {
          "base_uri": "https://localhost:8080/"
        },
        "id": "nPwDAH__hXQq",
        "outputId": "3cba08b1-e6ab-49c0-a78d-14ca473491fc"
      },
      "outputs": [
        {
          "name": "stdout",
          "output_type": "stream",
          "text": [
            "Collecting verovio\n",
            "  Downloading verovio-4.5.1-cp312-cp312-win_amd64.whl.metadata (9.2 kB)\n",
            "Downloading verovio-4.5.1-cp312-cp312-win_amd64.whl (4.9 MB)\n",
            "   ---------------------------------------- 0.0/4.9 MB ? eta -:--:--\n",
            "   -- ------------------------------------- 0.3/4.9 MB ? eta -:--:--\n",
            "   -------- ------------------------------- 1.0/4.9 MB 8.4 MB/s eta 0:00:01\n",
            "   -------------- ------------------------- 1.8/4.9 MB 3.6 MB/s eta 0:00:01\n",
            "   ----------------- ---------------------- 2.1/4.9 MB 4.1 MB/s eta 0:00:01\n",
            "   ------------------------- -------------- 3.1/4.9 MB 3.5 MB/s eta 0:00:01\n",
            "   --------------------------- ------------ 3.4/4.9 MB 3.0 MB/s eta 0:00:01\n",
            "   ---------------------------------- ----- 4.2/4.9 MB 3.5 MB/s eta 0:00:01\n",
            "   ---------------------------------- ----- 4.2/4.9 MB 3.5 MB/s eta 0:00:01\n",
            "   ---------------------------------- ----- 4.2/4.9 MB 3.5 MB/s eta 0:00:01\n",
            "   ---------------------------------- ----- 4.2/4.9 MB 3.5 MB/s eta 0:00:01\n",
            "   -------------------------------------- - 4.7/4.9 MB 2.2 MB/s eta 0:00:01\n",
            "   ---------------------------------------- 4.9/4.9 MB 2.2 MB/s eta 0:00:00\n",
            "Installing collected packages: verovio\n",
            "Successfully installed verovio-4.5.1\n"
          ]
        }
      ],
      "source": [
        "  !pip install verovio"
      ]
    },
    {
      "cell_type": "code",
      "execution_count": 3,
      "metadata": {},
      "outputs": [
        {
          "name": "stdout",
          "output_type": "stream",
          "text": [
            "Collecting transformers\n",
            "  Downloading transformers-4.48.1-py3-none-any.whl.metadata (44 kB)\n",
            "Requirement already satisfied: filelock in d:\\projects\\the_predictors-100-sustain-ai-thon\\.venv\\lib\\site-packages (from transformers) (3.17.0)\n",
            "Collecting huggingface-hub<1.0,>=0.24.0 (from transformers)\n",
            "  Downloading huggingface_hub-0.27.1-py3-none-any.whl.metadata (13 kB)\n",
            "Requirement already satisfied: numpy>=1.17 in d:\\projects\\the_predictors-100-sustain-ai-thon\\.venv\\lib\\site-packages (from transformers) (2.2.2)\n",
            "Requirement already satisfied: packaging>=20.0 in d:\\projects\\the_predictors-100-sustain-ai-thon\\.venv\\lib\\site-packages (from transformers) (24.2)\n",
            "Requirement already satisfied: pyyaml>=5.1 in d:\\projects\\the_predictors-100-sustain-ai-thon\\.venv\\lib\\site-packages (from transformers) (6.0.2)\n",
            "Requirement already satisfied: regex!=2019.12.17 in d:\\projects\\the_predictors-100-sustain-ai-thon\\.venv\\lib\\site-packages (from transformers) (2024.11.6)\n",
            "Requirement already satisfied: requests in d:\\projects\\the_predictors-100-sustain-ai-thon\\.venv\\lib\\site-packages (from transformers) (2.32.3)\n",
            "Collecting tokenizers<0.22,>=0.21 (from transformers)\n",
            "  Downloading tokenizers-0.21.0-cp39-abi3-win_amd64.whl.metadata (6.9 kB)\n",
            "Collecting safetensors>=0.4.1 (from transformers)\n",
            "  Downloading safetensors-0.5.2-cp38-abi3-win_amd64.whl.metadata (3.9 kB)\n",
            "Requirement already satisfied: tqdm>=4.27 in d:\\projects\\the_predictors-100-sustain-ai-thon\\.venv\\lib\\site-packages (from transformers) (4.67.1)\n",
            "Requirement already satisfied: fsspec>=2023.5.0 in d:\\projects\\the_predictors-100-sustain-ai-thon\\.venv\\lib\\site-packages (from huggingface-hub<1.0,>=0.24.0->transformers) (2024.12.0)\n",
            "Requirement already satisfied: typing-extensions>=3.7.4.3 in d:\\projects\\the_predictors-100-sustain-ai-thon\\.venv\\lib\\site-packages (from huggingface-hub<1.0,>=0.24.0->transformers) (4.12.2)\n",
            "Requirement already satisfied: colorama in d:\\projects\\the_predictors-100-sustain-ai-thon\\.venv\\lib\\site-packages (from tqdm>=4.27->transformers) (0.4.6)\n",
            "Requirement already satisfied: charset-normalizer<4,>=2 in d:\\projects\\the_predictors-100-sustain-ai-thon\\.venv\\lib\\site-packages (from requests->transformers) (3.4.1)\n",
            "Requirement already satisfied: idna<4,>=2.5 in d:\\projects\\the_predictors-100-sustain-ai-thon\\.venv\\lib\\site-packages (from requests->transformers) (3.10)\n",
            "Requirement already satisfied: urllib3<3,>=1.21.1 in d:\\projects\\the_predictors-100-sustain-ai-thon\\.venv\\lib\\site-packages (from requests->transformers) (2.3.0)\n",
            "Requirement already satisfied: certifi>=2017.4.17 in d:\\projects\\the_predictors-100-sustain-ai-thon\\.venv\\lib\\site-packages (from requests->transformers) (2024.12.14)\n",
            "Downloading transformers-4.48.1-py3-none-any.whl (9.7 MB)\n",
            "   ---------------------------------------- 0.0/9.7 MB ? eta -:--:--\n",
            "   --- ------------------------------------ 0.8/9.7 MB 3.7 MB/s eta 0:00:03\n",
            "   ----- ---------------------------------- 1.3/9.7 MB 3.0 MB/s eta 0:00:03\n",
            "   -------- ------------------------------- 2.1/9.7 MB 3.5 MB/s eta 0:00:03\n",
            "   ---------- ----------------------------- 2.6/9.7 MB 3.2 MB/s eta 0:00:03\n",
            "   -------------- ------------------------- 3.4/9.7 MB 3.2 MB/s eta 0:00:02\n",
            "   ---------------- ----------------------- 3.9/9.7 MB 3.2 MB/s eta 0:00:02\n",
            "   ------------------ --------------------- 4.5/9.7 MB 3.1 MB/s eta 0:00:02\n",
            "   -------------------- ------------------- 5.0/9.7 MB 3.0 MB/s eta 0:00:02\n",
            "   ---------------------- ----------------- 5.5/9.7 MB 2.9 MB/s eta 0:00:02\n",
            "   ------------------------ --------------- 6.0/9.7 MB 3.0 MB/s eta 0:00:02\n",
            "   ---------------------------- ----------- 6.8/9.7 MB 3.0 MB/s eta 0:00:01\n",
            "   ------------------------------ --------- 7.3/9.7 MB 3.0 MB/s eta 0:00:01\n",
            "   -------------------------------- ------- 7.9/9.7 MB 2.9 MB/s eta 0:00:01\n",
            "   --------------------------------- ------ 8.1/9.7 MB 2.9 MB/s eta 0:00:01\n",
            "   ----------------------------------- ---- 8.7/9.7 MB 2.8 MB/s eta 0:00:01\n",
            "   ------------------------------------ --- 8.9/9.7 MB 2.7 MB/s eta 0:00:01\n",
            "   ------------------------------------- -- 9.2/9.7 MB 2.7 MB/s eta 0:00:01\n",
            "   ---------------------------------------- 9.7/9.7 MB 2.6 MB/s eta 0:00:00\n",
            "Downloading huggingface_hub-0.27.1-py3-none-any.whl (450 kB)\n",
            "Downloading safetensors-0.5.2-cp38-abi3-win_amd64.whl (303 kB)\n",
            "Downloading tokenizers-0.21.0-cp39-abi3-win_amd64.whl (2.4 MB)\n",
            "   ---------------------------------------- 0.0/2.4 MB ? eta -:--:--\n",
            "   ---- ----------------------------------- 0.3/2.4 MB ? eta -:--:--\n",
            "   ------------- -------------------------- 0.8/2.4 MB 2.4 MB/s eta 0:00:01\n",
            "   -------------------------- ------------- 1.6/2.4 MB 2.8 MB/s eta 0:00:01\n",
            "   ----------------------------------- ---- 2.1/2.4 MB 2.8 MB/s eta 0:00:01\n",
            "   ---------------------------------------- 2.4/2.4 MB 2.8 MB/s eta 0:00:00\n",
            "Installing collected packages: safetensors, huggingface-hub, tokenizers, transformers\n",
            "Successfully installed huggingface-hub-0.27.1 safetensors-0.5.2 tokenizers-0.21.0 transformers-4.48.1\n"
          ]
        }
      ],
      "source": [
        "  !pip install transformers"
      ]
    },
    {
      "cell_type": "code",
      "execution_count": null,
      "metadata": {
        "colab": {
          "base_uri": "https://localhost:8080/"
        },
        "id": "FlqSDHDReRSY",
        "outputId": "71e64a1b-c644-4c3a-d76c-2942591150b3"
      },
      "outputs": [
        {
          "name": "stderr",
          "output_type": "stream",
          "text": [
            "The attention mask and the pad token id were not set. As a consequence, you may observe unexpected behavior. Please pass your input's `attention_mask` to obtain reliable results.\n",
            "Setting `pad_token_id` to `eos_token_id`:151643 for open-end generation.\n",
            "The attention mask is not set and cannot be inferred from input because pad token is same as eos token. As a consequence, you may observe unexpected behavior. Please pass your input's `attention_mask` to obtain reliable results.\n",
            "The `seen_tokens` attribute is deprecated and will be removed in v4.41. Use the `cache_position` model input instead.\n",
            "`get_max_cache()` is deprecated for all Cache classes. Use `get_max_cache_shape()` instead. Calling `get_max_cache()` will raise error from v4.48\n"
          ]
        },
        {
          "name": "stdout",
          "output_type": "stream",
          "text": [
            "Complies with IM DAS t and ard s D BI 01104 logitech G. com NASDAQ: LOGI ogitech Asia Pacific Ltd.  Tel: 852-2624-3600 Fax: 852-2520-2230 S/ N: 2440 AP 7 HJ W N 9 910-005293 Tel: 65-3163-2001 Fax: 65-621-5016 G 304 Logitech Australia Periphery s Pty Ltd Tel: 61-2-9764-8500 Fax: 61-2-9642-0151 027 9785513775 007\n"
          ]
        }
      ],
      "source": [
        "from transformers import AutoModel, AutoTokenizer\n",
        "\n",
        "tokenizer = AutoTokenizer.from_pretrained('ucaslcl/GOT-OCR2_0', trust_remote_code=True)\n",
        "model = AutoModel.from_pretrained('ucaslcl/GOT-OCR2_0', trust_remote_code=True, low_cpu_mem_usage=True, device_map='cuda', use_safetensors=True, pad_token_id=tokenizer.eos_token_id)\n",
        "model = model.eval().cuda()\n",
        "\n",
        "\n",
        "# input your test image\n",
        "image_file = r'/content/20250120_170137.jpg'\n",
        "\n",
        "# plain texts OCR\n",
        "res = model.chat(tokenizer, image_file, ocr_type='ocr')\n",
        "\n",
        "# format texts OCR:\n",
        "# res = model.chat(tokenizer, image_file, ocr_type='format')\n",
        "\n",
        "# fine-grained OCR:\n",
        "# res = model.chat(tokenizer, image_file, ocr_type='ocr', ocr_box='')\n",
        "# res = model.chat(tokenizer, image_file, ocr_type='format', ocr_box='')\n",
        "# res = model.chat(tokenizer, image_file, ocr_type='ocr', ocr_color='')\n",
        "# res = model.chat(tokenizer, image_file, ocr_type='format', ocr_color='')\n",
        "\n",
        "# multi-crop OCR:\n",
        "# res = model.chat_crop(tokenizer, image_file, ocr_type='ocr')\n",
        "# res = model.chat_crop(tokenizer, image_file, ocr_type='format')\n",
        "\n",
        "# render the formatted OCR results:\n",
        "# res = model.chat(tokenizer, image_file, ocr_type='format', render=True, save_render_file = './demo.html')\n",
        "\n",
        "print(res)\n"
      ]
    },
    {
      "cell_type": "code",
      "execution_count": null,
      "metadata": {
        "colab": {
          "base_uri": "https://localhost:8080/"
        },
        "id": "6DhL0_e1ipzs",
        "outputId": "343ca71e-708c-425a-88de-800b25080c43"
      },
      "outputs": [
        {
          "name": "stderr",
          "output_type": "stream",
          "text": [
            "The attention mask and the pad token id were not set. As a consequence, you may observe unexpected behavior. Please pass your input's `attention_mask` to obtain reliable results.\n",
            "Setting `pad_token_id` to `eos_token_id`:151643 for open-end generation.\n"
          ]
        },
        {
          "name": "stdout",
          "output_type": "stream",
          "text": [
            "Complies with IM DAS t and ard s D BI 01104 logitech G. com NASDAQ: LOGI ogitech Asia Pacific Ltd.  Tel: 852-2624-3600 Fax: 852-2520-2230 S/ N: 2440 AP 7 HJ W N 9 910-005293 Tel: 65-3163-2001 Fax: 65-621-5016 G 304 Logitech Australia Periphery s Pty Ltd Tel: 61-2-9764-8500 Fax: 61-2-9642-0151 027 9785513775 007\n"
          ]
        }
      ],
      "source": [
        "# input your test image\n",
        "image_file = r'/content/20250120_170137.jpg'\n",
        "\n",
        "# plain texts OCR\n",
        "res = model.chat(tokenizer, image_file, ocr_type='ocr')\n",
        "\n",
        "# format texts OCR:\n",
        "# res = model.chat(tokenizer, image_file, ocr_type='format')\n",
        "\n",
        "# fine-grained OCR:\n",
        "# res = model.chat(tokenizer, image_file, ocr_type='ocr', ocr_box='')\n",
        "# res = model.chat(tokenizer, image_file, ocr_type='format', ocr_box='')\n",
        "# res = model.chat(tokenizer, image_file, ocr_type='ocr', ocr_color='')\n",
        "# res = model.chat(tokenizer, image_file, ocr_type='format', ocr_color='')\n",
        "\n",
        "# multi-crop OCR:\n",
        "# res = model.chat_crop(tokenizer, image_file, ocr_type='ocr')\n",
        "# res = model.chat_crop(tokenizer, image_file, ocr_type='format')\n",
        "\n",
        "# render the formatted OCR results:\n",
        "# res = model.chat(tokenizer, image_file, ocr_type='format', render=True, save_render_file = './demo.html')\n",
        "\n",
        "print(res)"
      ]
    },
    {
      "cell_type": "code",
      "execution_count": null,
      "metadata": {
        "colab": {
          "base_uri": "https://localhost:8080/"
        },
        "id": "YSB8d2nCk8ps",
        "outputId": "99d1a5de-b463-4d44-d18e-7e16ab5bc68f"
      },
      "outputs": [
        {
          "name": "stdout",
          "output_type": "stream",
          "text": [
            "Requirement already satisfied: inference in /usr/local/lib/python3.11/dist-packages (0.34.0)\n",
            "Requirement already satisfied: aiortc<2.0.0,>=1.9.0 in /usr/local/lib/python3.11/dist-packages (from inference) (1.9.0)\n",
            "Requirement already satisfied: APScheduler<4.0.0,>=3.10.1 in /usr/local/lib/python3.11/dist-packages (from inference) (3.11.0)\n",
            "Requirement already satisfied: asyncua~=1.1.5 in /usr/local/lib/python3.11/dist-packages (from inference) (1.1.5)\n",
            "Requirement already satisfied: cython~=3.0.0 in /usr/local/lib/python3.11/dist-packages (from inference) (3.0.11)\n",
            "Requirement already satisfied: python-dotenv~=1.0.0 in /usr/local/lib/python3.11/dist-packages (from inference) (1.0.1)\n",
            "Requirement already satisfied: fastapi<0.111,>=0.100 in /usr/local/lib/python3.11/dist-packages (from inference) (0.110.3)\n",
            "Requirement already satisfied: numpy<=1.26.4 in /usr/local/lib/python3.11/dist-packages (from inference) (1.26.4)\n",
            "Requirement already satisfied: opencv-python<=4.10.0.84,>=4.8.1.78 in /usr/local/lib/python3.11/dist-packages (from inference) (4.10.0.84)\n",
            "Requirement already satisfied: pillow<11.0 in /usr/local/lib/python3.11/dist-packages (from inference) (10.4.0)\n",
            "Requirement already satisfied: prometheus-fastapi-instrumentator<=6.0.0 in /usr/local/lib/python3.11/dist-packages (from inference) (6.0.0)\n",
            "Requirement already satisfied: redis~=5.0.0 in /usr/local/lib/python3.11/dist-packages (from inference) (5.0.8)\n",
            "Requirement already satisfied: requests<3.0.0,>=2.32.0 in /usr/local/lib/python3.11/dist-packages (from inference) (2.32.3)\n",
            "Requirement already satisfied: rich<13.10.0,>=13.0.0 in /usr/local/lib/python3.11/dist-packages (from inference) (13.0.1)\n",
            "Requirement already satisfied: supervision<=0.30.0,>=0.25.1 in /usr/local/lib/python3.11/dist-packages (from inference) (0.25.1)\n",
            "Requirement already satisfied: pybase64~=1.0.0 in /usr/local/lib/python3.11/dist-packages (from inference) (1.0.2)\n",
            "Requirement already satisfied: scikit-image<=0.24.0,>=0.19.0 in /usr/local/lib/python3.11/dist-packages (from inference) (0.24.0)\n",
            "Requirement already satisfied: requests-toolbelt~=1.0.0 in /usr/local/lib/python3.11/dist-packages (from inference) (1.0.0)\n",
            "Requirement already satisfied: wheel<=0.45.0,>=0.38.1 in /usr/local/lib/python3.11/dist-packages (from inference) (0.45.0)\n",
            "Requirement already satisfied: setuptools>=70.0.0 in /usr/local/lib/python3.11/dist-packages (from inference) (75.1.0)\n",
            "Requirement already satisfied: networkx~=3.1 in /usr/local/lib/python3.11/dist-packages (from inference) (3.4.2)\n",
            "Requirement already satisfied: pydantic~=2.6 in /usr/local/lib/python3.11/dist-packages (from inference) (2.10.5)\n",
            "Requirement already satisfied: pydantic-settings~=2.2 in /usr/local/lib/python3.11/dist-packages (from inference) (2.7.1)\n",
            "Requirement already satisfied: openai<2.0.0,>=1.12.0 in /usr/local/lib/python3.11/dist-packages (from inference) (1.59.6)\n",
            "Requirement already satisfied: structlog<25.0.0,>=24.1.0 in /usr/local/lib/python3.11/dist-packages (from inference) (24.4.0)\n",
            "Requirement already satisfied: zxing-cpp~=2.2.0 in /usr/local/lib/python3.11/dist-packages (from inference) (2.2.0)\n",
            "Requirement already satisfied: boto3<=1.35.60 in /usr/local/lib/python3.11/dist-packages (from inference) (1.35.60)\n",
            "Requirement already satisfied: typing_extensions<=4.12.2,>=4.8.0 in /usr/local/lib/python3.11/dist-packages (from inference) (4.12.2)\n",
            "Requirement already satisfied: pydot~=2.0.0 in /usr/local/lib/python3.11/dist-packages (from inference) (2.0.0)\n",
            "Requirement already satisfied: shapely<2.1.0,>=2.0.0 in /usr/local/lib/python3.11/dist-packages (from inference) (2.0.6)\n",
            "Requirement already satisfied: tldextract~=5.1.2 in /usr/local/lib/python3.11/dist-packages (from inference) (5.1.3)\n",
            "Requirement already satisfied: packaging~=24.0 in /usr/local/lib/python3.11/dist-packages (from inference) (24.2)\n",
            "Requirement already satisfied: anthropic~=0.34.2 in /usr/local/lib/python3.11/dist-packages (from inference) (0.34.2)\n",
            "Requirement already satisfied: pandas<2.3.0,>=2.0.0 in /usr/local/lib/python3.11/dist-packages (from inference) (2.2.2)\n",
            "Requirement already satisfied: paho-mqtt~=1.6.1 in /usr/local/lib/python3.11/dist-packages (from inference) (1.6.1)\n",
            "Requirement already satisfied: pytest<9.0.0,>=8.0.0 in /usr/local/lib/python3.11/dist-packages (from inference) (8.3.4)\n",
            "Requirement already satisfied: tokenizers<=0.20.3,>=0.19.0 in /usr/local/lib/python3.11/dist-packages (from inference) (0.20.3)\n",
            "Requirement already satisfied: slack-sdk~=3.33.4 in /usr/local/lib/python3.11/dist-packages (from inference) (3.33.5)\n",
            "Requirement already satisfied: twilio~=9.3.7 in /usr/local/lib/python3.11/dist-packages (from inference) (9.3.8)\n",
            "Requirement already satisfied: httpx<0.28.0,>=0.25.1 in /usr/local/lib/python3.11/dist-packages (from inference) (0.27.2)\n",
            "Requirement already satisfied: pylogix==1.0.5 in /usr/local/lib/python3.11/dist-packages (from inference) (1.0.5)\n",
            "Requirement already satisfied: onnxruntime<1.20.0,>=1.15.1 in /usr/local/lib/python3.11/dist-packages (from inference) (1.19.2)\n",
            "Requirement already satisfied: nvidia-ml-py<13.0.0 in /usr/local/lib/python3.11/dist-packages (from inference) (12.560.30)\n",
            "Requirement already satisfied: docker<8.0.0,>=7.0.0 in /usr/local/lib/python3.11/dist-packages (from inference) (7.1.0)\n",
            "Requirement already satisfied: typer<=0.12.5,>=0.9.0 in /usr/local/lib/python3.11/dist-packages (from inference) (0.12.5)\n",
            "Requirement already satisfied: PyYAML~=6.0.0 in /usr/local/lib/python3.11/dist-packages (from inference) (6.0.2)\n",
            "Requirement already satisfied: tqdm<5.0.0,>=4.0.0 in /usr/local/lib/python3.11/dist-packages (from inference) (4.67.1)\n",
            "Requirement already satisfied: py-cpuinfo~=9.0.0 in /usr/local/lib/python3.11/dist-packages (from inference) (9.0.0)\n",
            "Requirement already satisfied: aiohttp<=3.10.11,>=3.9.0 in /usr/local/lib/python3.11/dist-packages (from inference) (3.10.11)\n",
            "Requirement already satisfied: backoff~=2.2.0 in /usr/local/lib/python3.11/dist-packages (from inference) (2.2.1)\n",
            "Requirement already satisfied: dataclasses-json~=0.6.0 in /usr/local/lib/python3.11/dist-packages (from inference) (0.6.7)\n",
            "Requirement already satisfied: aiohappyeyeballs>=2.3.0 in /usr/local/lib/python3.11/dist-packages (from aiohttp<=3.10.11,>=3.9.0->inference) (2.4.4)\n",
            "Requirement already satisfied: aiosignal>=1.1.2 in /usr/local/lib/python3.11/dist-packages (from aiohttp<=3.10.11,>=3.9.0->inference) (1.3.2)\n",
            "Requirement already satisfied: attrs>=17.3.0 in /usr/local/lib/python3.11/dist-packages (from aiohttp<=3.10.11,>=3.9.0->inference) (24.3.0)\n",
            "Requirement already satisfied: frozenlist>=1.1.1 in /usr/local/lib/python3.11/dist-packages (from aiohttp<=3.10.11,>=3.9.0->inference) (1.5.0)\n",
            "Requirement already satisfied: multidict<7.0,>=4.5 in /usr/local/lib/python3.11/dist-packages (from aiohttp<=3.10.11,>=3.9.0->inference) (6.1.0)\n",
            "Requirement already satisfied: yarl<2.0,>=1.12.0 in /usr/local/lib/python3.11/dist-packages (from aiohttp<=3.10.11,>=3.9.0->inference) (1.18.3)\n",
            "Requirement already satisfied: aioice<1.0.0,>=0.9.0 in /usr/local/lib/python3.11/dist-packages (from aiortc<2.0.0,>=1.9.0->inference) (0.9.0)\n",
            "Requirement already satisfied: av<13.0.0,>=9.0.0 in /usr/local/lib/python3.11/dist-packages (from aiortc<2.0.0,>=1.9.0->inference) (12.3.0)\n",
            "Requirement already satisfied: cffi>=1.0.0 in /usr/local/lib/python3.11/dist-packages (from aiortc<2.0.0,>=1.9.0->inference) (1.17.1)\n",
            "Requirement already satisfied: cryptography>=42.0.0 in /usr/local/lib/python3.11/dist-packages (from aiortc<2.0.0,>=1.9.0->inference) (43.0.3)\n",
            "Requirement already satisfied: google-crc32c>=1.1 in /usr/local/lib/python3.11/dist-packages (from aiortc<2.0.0,>=1.9.0->inference) (1.6.0)\n",
            "Requirement already satisfied: pyee>=9.0.0 in /usr/local/lib/python3.11/dist-packages (from aiortc<2.0.0,>=1.9.0->inference) (12.1.1)\n",
            "Requirement already satisfied: pylibsrtp>=0.10.0 in /usr/local/lib/python3.11/dist-packages (from aiortc<2.0.0,>=1.9.0->inference) (0.10.0)\n",
            "Requirement already satisfied: pyopenssl>=24.0.0 in /usr/local/lib/python3.11/dist-packages (from aiortc<2.0.0,>=1.9.0->inference) (24.2.1)\n",
            "Requirement already satisfied: anyio<5,>=3.5.0 in /usr/local/lib/python3.11/dist-packages (from anthropic~=0.34.2->inference) (3.7.1)\n",
            "Requirement already satisfied: distro<2,>=1.7.0 in /usr/local/lib/python3.11/dist-packages (from anthropic~=0.34.2->inference) (1.9.0)\n",
            "Requirement already satisfied: jiter<1,>=0.4.0 in /usr/local/lib/python3.11/dist-packages (from anthropic~=0.34.2->inference) (0.8.2)\n",
            "Requirement already satisfied: sniffio in /usr/local/lib/python3.11/dist-packages (from anthropic~=0.34.2->inference) (1.3.1)\n",
            "Requirement already satisfied: tzlocal>=3.0 in /usr/local/lib/python3.11/dist-packages (from APScheduler<4.0.0,>=3.10.1->inference) (5.2)\n",
            "Requirement already satisfied: aiofiles in /usr/local/lib/python3.11/dist-packages (from asyncua~=1.1.5->inference) (24.1.0)\n",
            "Requirement already satisfied: aiosqlite in /usr/local/lib/python3.11/dist-packages (from asyncua~=1.1.5->inference) (0.20.0)\n",
            "Requirement already satisfied: python-dateutil in /usr/local/lib/python3.11/dist-packages (from asyncua~=1.1.5->inference) (2.8.2)\n",
            "Requirement already satisfied: pytz in /usr/local/lib/python3.11/dist-packages (from asyncua~=1.1.5->inference) (2024.2)\n",
            "Requirement already satisfied: sortedcontainers in /usr/local/lib/python3.11/dist-packages (from asyncua~=1.1.5->inference) (2.4.0)\n",
            "Requirement already satisfied: botocore<1.36.0,>=1.35.60 in /usr/local/lib/python3.11/dist-packages (from boto3<=1.35.60->inference) (1.35.99)\n",
            "Requirement already satisfied: jmespath<2.0.0,>=0.7.1 in /usr/local/lib/python3.11/dist-packages (from boto3<=1.35.60->inference) (1.0.1)\n",
            "Requirement already satisfied: s3transfer<0.11.0,>=0.10.0 in /usr/local/lib/python3.11/dist-packages (from boto3<=1.35.60->inference) (0.10.4)\n",
            "Requirement already satisfied: marshmallow<4.0.0,>=3.18.0 in /usr/local/lib/python3.11/dist-packages (from dataclasses-json~=0.6.0->inference) (3.25.1)\n",
            "Requirement already satisfied: typing-inspect<1,>=0.4.0 in /usr/local/lib/python3.11/dist-packages (from dataclasses-json~=0.6.0->inference) (0.9.0)\n",
            "Requirement already satisfied: urllib3>=1.26.0 in /usr/local/lib/python3.11/dist-packages (from docker<8.0.0,>=7.0.0->inference) (2.3.0)\n",
            "Requirement already satisfied: starlette<0.38.0,>=0.37.2 in /usr/local/lib/python3.11/dist-packages (from fastapi<0.111,>=0.100->inference) (0.37.2)\n",
            "Requirement already satisfied: certifi in /usr/local/lib/python3.11/dist-packages (from httpx<0.28.0,>=0.25.1->inference) (2024.12.14)\n",
            "Requirement already satisfied: httpcore==1.* in /usr/local/lib/python3.11/dist-packages (from httpx<0.28.0,>=0.25.1->inference) (1.0.7)\n",
            "Requirement already satisfied: idna in /usr/local/lib/python3.11/dist-packages (from httpx<0.28.0,>=0.25.1->inference) (3.10)\n",
            "Requirement already satisfied: h11<0.15,>=0.13 in /usr/local/lib/python3.11/dist-packages (from httpcore==1.*->httpx<0.28.0,>=0.25.1->inference) (0.14.0)\n",
            "Requirement already satisfied: coloredlogs in /usr/local/lib/python3.11/dist-packages (from onnxruntime<1.20.0,>=1.15.1->inference) (15.0.1)\n",
            "Requirement already satisfied: flatbuffers in /usr/local/lib/python3.11/dist-packages (from onnxruntime<1.20.0,>=1.15.1->inference) (24.12.23)\n",
            "Requirement already satisfied: protobuf in /usr/local/lib/python3.11/dist-packages (from onnxruntime<1.20.0,>=1.15.1->inference) (4.25.5)\n",
            "Requirement already satisfied: sympy in /usr/local/lib/python3.11/dist-packages (from onnxruntime<1.20.0,>=1.15.1->inference) (1.13.1)\n",
            "Requirement already satisfied: tzdata>=2022.7 in /usr/local/lib/python3.11/dist-packages (from pandas<2.3.0,>=2.0.0->inference) (2024.2)\n",
            "Requirement already satisfied: prometheus-client<1.0.0,>=0.8.0 in /usr/local/lib/python3.11/dist-packages (from prometheus-fastapi-instrumentator<=6.0.0->inference) (0.21.1)\n",
            "Requirement already satisfied: annotated-types>=0.6.0 in /usr/local/lib/python3.11/dist-packages (from pydantic~=2.6->inference) (0.7.0)\n",
            "Requirement already satisfied: pydantic-core==2.27.2 in /usr/local/lib/python3.11/dist-packages (from pydantic~=2.6->inference) (2.27.2)\n",
            "Requirement already satisfied: pyparsing>=3 in /usr/local/lib/python3.11/dist-packages (from pydot~=2.0.0->inference) (3.2.1)\n",
            "Requirement already satisfied: iniconfig in /usr/local/lib/python3.11/dist-packages (from pytest<9.0.0,>=8.0.0->inference) (2.0.0)\n",
            "Requirement already satisfied: pluggy<2,>=1.5 in /usr/local/lib/python3.11/dist-packages (from pytest<9.0.0,>=8.0.0->inference) (1.5.0)\n",
            "Requirement already satisfied: charset-normalizer<4,>=2 in /usr/local/lib/python3.11/dist-packages (from requests<3.0.0,>=2.32.0->inference) (3.4.1)\n",
            "Requirement already satisfied: commonmark<0.10.0,>=0.9.0 in /usr/local/lib/python3.11/dist-packages (from rich<13.10.0,>=13.0.0->inference) (0.9.1)\n",
            "Requirement already satisfied: pygments<3.0.0,>=2.6.0 in /usr/local/lib/python3.11/dist-packages (from rich<13.10.0,>=13.0.0->inference) (2.18.0)\n",
            "Requirement already satisfied: scipy>=1.9 in /usr/local/lib/python3.11/dist-packages (from scikit-image<=0.24.0,>=0.19.0->inference) (1.13.1)\n",
            "Requirement already satisfied: imageio>=2.33 in /usr/local/lib/python3.11/dist-packages (from scikit-image<=0.24.0,>=0.19.0->inference) (2.36.1)\n",
            "Requirement already satisfied: tifffile>=2022.8.12 in /usr/local/lib/python3.11/dist-packages (from scikit-image<=0.24.0,>=0.19.0->inference) (2024.12.12)\n",
            "Requirement already satisfied: lazy-loader>=0.4 in /usr/local/lib/python3.11/dist-packages (from scikit-image<=0.24.0,>=0.19.0->inference) (0.4)\n",
            "Requirement already satisfied: contourpy>=1.0.7 in /usr/local/lib/python3.11/dist-packages (from supervision<=0.30.0,>=0.25.1->inference) (1.3.1)\n",
            "Requirement already satisfied: defusedxml<0.8.0,>=0.7.1 in /usr/local/lib/python3.11/dist-packages (from supervision<=0.30.0,>=0.25.1->inference) (0.7.1)\n",
            "Requirement already satisfied: matplotlib>=3.6.0 in /usr/local/lib/python3.11/dist-packages (from supervision<=0.30.0,>=0.25.1->inference) (3.10.0)\n",
            "Requirement already satisfied: requests-file>=1.4 in /usr/local/lib/python3.11/dist-packages (from tldextract~=5.1.2->inference) (2.1.0)\n",
            "Requirement already satisfied: filelock>=3.0.8 in /usr/local/lib/python3.11/dist-packages (from tldextract~=5.1.2->inference) (3.16.1)\n",
            "Requirement already satisfied: huggingface-hub<1.0,>=0.16.4 in /usr/local/lib/python3.11/dist-packages (from tokenizers<=0.20.3,>=0.19.0->inference) (0.27.1)\n",
            "Requirement already satisfied: PyJWT<3.0.0,>=2.0.0 in /usr/local/lib/python3.11/dist-packages (from twilio~=9.3.7->inference) (2.10.1)\n",
            "Requirement already satisfied: aiohttp-retry==2.8.3 in /usr/local/lib/python3.11/dist-packages (from twilio~=9.3.7->inference) (2.8.3)\n",
            "Requirement already satisfied: click>=8.0.0 in /usr/local/lib/python3.11/dist-packages (from typer<=0.12.5,>=0.9.0->inference) (8.1.8)\n",
            "Requirement already satisfied: shellingham>=1.3.0 in /usr/local/lib/python3.11/dist-packages (from typer<=0.12.5,>=0.9.0->inference) (1.5.4)\n",
            "Requirement already satisfied: dnspython>=2.0.0 in /usr/local/lib/python3.11/dist-packages (from aioice<1.0.0,>=0.9.0->aiortc<2.0.0,>=1.9.0->inference) (2.7.0)\n",
            "Requirement already satisfied: ifaddr>=0.2.0 in /usr/local/lib/python3.11/dist-packages (from aioice<1.0.0,>=0.9.0->aiortc<2.0.0,>=1.9.0->inference) (0.2.0)\n",
            "Requirement already satisfied: pycparser in /usr/local/lib/python3.11/dist-packages (from cffi>=1.0.0->aiortc<2.0.0,>=1.9.0->inference) (2.22)\n",
            "Requirement already satisfied: fsspec>=2023.5.0 in /usr/local/lib/python3.11/dist-packages (from huggingface-hub<1.0,>=0.16.4->tokenizers<=0.20.3,>=0.19.0->inference) (2024.10.0)\n",
            "Requirement already satisfied: cycler>=0.10 in /usr/local/lib/python3.11/dist-packages (from matplotlib>=3.6.0->supervision<=0.30.0,>=0.25.1->inference) (0.12.1)\n",
            "Requirement already satisfied: fonttools>=4.22.0 in /usr/local/lib/python3.11/dist-packages (from matplotlib>=3.6.0->supervision<=0.30.0,>=0.25.1->inference) (4.55.3)\n",
            "Requirement already satisfied: kiwisolver>=1.3.1 in /usr/local/lib/python3.11/dist-packages (from matplotlib>=3.6.0->supervision<=0.30.0,>=0.25.1->inference) (1.4.8)\n",
            "Requirement already satisfied: six>=1.5 in /usr/local/lib/python3.11/dist-packages (from python-dateutil->asyncua~=1.1.5->inference) (1.17.0)\n",
            "Requirement already satisfied: mypy-extensions>=0.3.0 in /usr/local/lib/python3.11/dist-packages (from typing-inspect<1,>=0.4.0->dataclasses-json~=0.6.0->inference) (1.0.0)\n",
            "Requirement already satisfied: propcache>=0.2.0 in /usr/local/lib/python3.11/dist-packages (from yarl<2.0,>=1.12.0->aiohttp<=3.10.11,>=3.9.0->inference) (0.2.1)\n",
            "Requirement already satisfied: humanfriendly>=9.1 in /usr/local/lib/python3.11/dist-packages (from coloredlogs->onnxruntime<1.20.0,>=1.15.1->inference) (10.0)\n",
            "Requirement already satisfied: mpmath<1.4,>=1.1.0 in /usr/local/lib/python3.11/dist-packages (from sympy->onnxruntime<1.20.0,>=1.15.1->inference) (1.3.0)\n"
          ]
        }
      ],
      "source": [
        "!pip install inference"
      ]
    },
    {
      "cell_type": "code",
      "execution_count": 4,
      "metadata": {
        "colab": {
          "base_uri": "https://localhost:8080/"
        },
        "id": "Dlx-3PqblBbm",
        "outputId": "72a4200d-ec2f-4f55-e65a-f510e112d67c"
      },
      "outputs": [
        {
          "name": "stdout",
          "output_type": "stream",
          "text": [
            "Collecting supervision\n",
            "  Downloading supervision-0.25.1-py3-none-any.whl.metadata (14 kB)\n",
            "Requirement already satisfied: contourpy>=1.0.7 in d:\\projects\\the_predictors-100-sustain-ai-thon\\.venv\\lib\\site-packages (from supervision) (1.3.1)\n",
            "Collecting defusedxml<0.8.0,>=0.7.1 (from supervision)\n",
            "  Downloading defusedxml-0.7.1-py2.py3-none-any.whl.metadata (32 kB)\n",
            "Requirement already satisfied: matplotlib>=3.6.0 in d:\\projects\\the_predictors-100-sustain-ai-thon\\.venv\\lib\\site-packages (from supervision) (3.10.0)\n",
            "Requirement already satisfied: numpy>=1.21.2 in d:\\projects\\the_predictors-100-sustain-ai-thon\\.venv\\lib\\site-packages (from supervision) (2.2.2)\n",
            "Requirement already satisfied: opencv-python>=4.5.5.64 in d:\\projects\\the_predictors-100-sustain-ai-thon\\.venv\\lib\\site-packages (from supervision) (4.11.0.86)\n",
            "Requirement already satisfied: pillow>=9.4 in d:\\projects\\the_predictors-100-sustain-ai-thon\\.venv\\lib\\site-packages (from supervision) (11.1.0)\n",
            "Requirement already satisfied: pyyaml>=5.3 in d:\\projects\\the_predictors-100-sustain-ai-thon\\.venv\\lib\\site-packages (from supervision) (6.0.2)\n",
            "Requirement already satisfied: requests>=2.26.0 in d:\\projects\\the_predictors-100-sustain-ai-thon\\.venv\\lib\\site-packages (from supervision) (2.32.3)\n",
            "Requirement already satisfied: scipy<2.0.0,>=1.10.0 in d:\\projects\\the_predictors-100-sustain-ai-thon\\.venv\\lib\\site-packages (from supervision) (1.15.1)\n",
            "Requirement already satisfied: tqdm>=4.62.3 in d:\\projects\\the_predictors-100-sustain-ai-thon\\.venv\\lib\\site-packages (from supervision) (4.67.1)\n",
            "Requirement already satisfied: cycler>=0.10 in d:\\projects\\the_predictors-100-sustain-ai-thon\\.venv\\lib\\site-packages (from matplotlib>=3.6.0->supervision) (0.12.1)\n",
            "Requirement already satisfied: fonttools>=4.22.0 in d:\\projects\\the_predictors-100-sustain-ai-thon\\.venv\\lib\\site-packages (from matplotlib>=3.6.0->supervision) (4.55.5)\n",
            "Requirement already satisfied: kiwisolver>=1.3.1 in d:\\projects\\the_predictors-100-sustain-ai-thon\\.venv\\lib\\site-packages (from matplotlib>=3.6.0->supervision) (1.4.8)\n",
            "Requirement already satisfied: packaging>=20.0 in d:\\projects\\the_predictors-100-sustain-ai-thon\\.venv\\lib\\site-packages (from matplotlib>=3.6.0->supervision) (24.2)\n",
            "Requirement already satisfied: pyparsing>=2.3.1 in d:\\projects\\the_predictors-100-sustain-ai-thon\\.venv\\lib\\site-packages (from matplotlib>=3.6.0->supervision) (3.2.1)\n",
            "Requirement already satisfied: python-dateutil>=2.7 in d:\\projects\\the_predictors-100-sustain-ai-thon\\.venv\\lib\\site-packages (from matplotlib>=3.6.0->supervision) (2.9.0.post0)\n",
            "Requirement already satisfied: charset-normalizer<4,>=2 in d:\\projects\\the_predictors-100-sustain-ai-thon\\.venv\\lib\\site-packages (from requests>=2.26.0->supervision) (3.4.1)\n",
            "Requirement already satisfied: idna<4,>=2.5 in d:\\projects\\the_predictors-100-sustain-ai-thon\\.venv\\lib\\site-packages (from requests>=2.26.0->supervision) (3.10)\n",
            "Requirement already satisfied: urllib3<3,>=1.21.1 in d:\\projects\\the_predictors-100-sustain-ai-thon\\.venv\\lib\\site-packages (from requests>=2.26.0->supervision) (2.3.0)\n",
            "Requirement already satisfied: certifi>=2017.4.17 in d:\\projects\\the_predictors-100-sustain-ai-thon\\.venv\\lib\\site-packages (from requests>=2.26.0->supervision) (2024.12.14)\n",
            "Requirement already satisfied: colorama in d:\\projects\\the_predictors-100-sustain-ai-thon\\.venv\\lib\\site-packages (from tqdm>=4.62.3->supervision) (0.4.6)\n",
            "Requirement already satisfied: six>=1.5 in d:\\projects\\the_predictors-100-sustain-ai-thon\\.venv\\lib\\site-packages (from python-dateutil>=2.7->matplotlib>=3.6.0->supervision) (1.17.0)\n",
            "Downloading supervision-0.25.1-py3-none-any.whl (181 kB)\n",
            "Downloading defusedxml-0.7.1-py2.py3-none-any.whl (25 kB)\n",
            "Installing collected packages: defusedxml, supervision\n",
            "Successfully installed defusedxml-0.7.1 supervision-0.25.1\n"
          ]
        }
      ],
      "source": [
        "!pip install supervision"
      ]
    },
    {
      "cell_type": "code",
      "execution_count": null,
      "metadata": {
        "colab": {
          "base_uri": "https://localhost:8080/"
        },
        "id": "JxA_zDLtlfjV",
        "outputId": "344e7488-fac1-404b-c4a4-93b0d93d015b"
      },
      "outputs": [
        {
          "data": {
            "text/plain": [
              "{'inference_id': '648dbf7d-affa-4b0d-aa80-33dd23f57c13',\n",
              " 'time': 0.1883752559997447,\n",
              " 'image': {'width': 4592, 'height': 8160},\n",
              " 'predictions': []}"
            ]
          },
          "execution_count": 9,
          "metadata": {},
          "output_type": "execute_result"
        }
      ],
      "source": [
        "from inference_sdk import InferenceHTTPClient\n",
        "\n",
        "CLIENT = InferenceHTTPClient(\n",
        "    api_url=\"https://detect.roboflow.com\",\n",
        "    api_key=\"jMllDEfAHGqPHhDJcN9I\"\n",
        ")\n",
        "\n",
        "result = CLIENT.infer('20250120_170137.jpg', model_id=\"yolo-barcode-detection-ctau6/2\")\n",
        "result"
      ]
    },
    {
      "cell_type": "markdown",
      "metadata": {
        "id": "aFLp6InGoY1P"
      },
      "source": [
        "Train barcode yolo"
      ]
    },
    {
      "cell_type": "code",
      "execution_count": 5,
      "metadata": {
        "colab": {
          "base_uri": "https://localhost:8080/"
        },
        "id": "tCTTYAVMoafX",
        "outputId": "6faa05cd-e84d-4f58-c515-fabfc15beba6"
      },
      "outputs": [
        {
          "name": "stdout",
          "output_type": "stream",
          "text": [
            "Collecting roboflow\n",
            "  Downloading roboflow-1.1.51-py3-none-any.whl.metadata (9.7 kB)\n",
            "Requirement already satisfied: certifi in d:\\projects\\the_predictors-100-sustain-ai-thon\\.venv\\lib\\site-packages (from roboflow) (2024.12.14)\n",
            "Collecting idna==3.7 (from roboflow)\n",
            "  Downloading idna-3.7-py3-none-any.whl.metadata (9.9 kB)\n",
            "Requirement already satisfied: cycler in d:\\projects\\the_predictors-100-sustain-ai-thon\\.venv\\lib\\site-packages (from roboflow) (0.12.1)\n",
            "Requirement already satisfied: kiwisolver>=1.3.1 in d:\\projects\\the_predictors-100-sustain-ai-thon\\.venv\\lib\\site-packages (from roboflow) (1.4.8)\n",
            "Requirement already satisfied: matplotlib in d:\\projects\\the_predictors-100-sustain-ai-thon\\.venv\\lib\\site-packages (from roboflow) (3.10.0)\n",
            "Requirement already satisfied: numpy>=1.18.5 in d:\\projects\\the_predictors-100-sustain-ai-thon\\.venv\\lib\\site-packages (from roboflow) (2.2.2)\n",
            "Collecting opencv-python-headless==4.10.0.84 (from roboflow)\n",
            "  Downloading opencv_python_headless-4.10.0.84-cp37-abi3-win_amd64.whl.metadata (20 kB)\n",
            "Requirement already satisfied: Pillow>=7.1.2 in d:\\projects\\the_predictors-100-sustain-ai-thon\\.venv\\lib\\site-packages (from roboflow) (11.1.0)\n",
            "Requirement already satisfied: python-dateutil in d:\\projects\\the_predictors-100-sustain-ai-thon\\.venv\\lib\\site-packages (from roboflow) (2.9.0.post0)\n",
            "Collecting python-dotenv (from roboflow)\n",
            "  Downloading python_dotenv-1.0.1-py3-none-any.whl.metadata (23 kB)\n",
            "Requirement already satisfied: requests in d:\\projects\\the_predictors-100-sustain-ai-thon\\.venv\\lib\\site-packages (from roboflow) (2.32.3)\n",
            "Requirement already satisfied: six in d:\\projects\\the_predictors-100-sustain-ai-thon\\.venv\\lib\\site-packages (from roboflow) (1.17.0)\n",
            "Requirement already satisfied: urllib3>=1.26.6 in d:\\projects\\the_predictors-100-sustain-ai-thon\\.venv\\lib\\site-packages (from roboflow) (2.3.0)\n",
            "Requirement already satisfied: tqdm>=4.41.0 in d:\\projects\\the_predictors-100-sustain-ai-thon\\.venv\\lib\\site-packages (from roboflow) (4.67.1)\n",
            "Requirement already satisfied: PyYAML>=5.3.1 in d:\\projects\\the_predictors-100-sustain-ai-thon\\.venv\\lib\\site-packages (from roboflow) (6.0.2)\n",
            "Collecting requests-toolbelt (from roboflow)\n",
            "  Downloading requests_toolbelt-1.0.0-py2.py3-none-any.whl.metadata (14 kB)\n",
            "Collecting filetype (from roboflow)\n",
            "  Downloading filetype-1.2.0-py2.py3-none-any.whl.metadata (6.5 kB)\n",
            "Requirement already satisfied: colorama in d:\\projects\\the_predictors-100-sustain-ai-thon\\.venv\\lib\\site-packages (from tqdm>=4.41.0->roboflow) (0.4.6)\n",
            "Requirement already satisfied: contourpy>=1.0.1 in d:\\projects\\the_predictors-100-sustain-ai-thon\\.venv\\lib\\site-packages (from matplotlib->roboflow) (1.3.1)\n",
            "Requirement already satisfied: fonttools>=4.22.0 in d:\\projects\\the_predictors-100-sustain-ai-thon\\.venv\\lib\\site-packages (from matplotlib->roboflow) (4.55.5)\n",
            "Requirement already satisfied: packaging>=20.0 in d:\\projects\\the_predictors-100-sustain-ai-thon\\.venv\\lib\\site-packages (from matplotlib->roboflow) (24.2)\n",
            "Requirement already satisfied: pyparsing>=2.3.1 in d:\\projects\\the_predictors-100-sustain-ai-thon\\.venv\\lib\\site-packages (from matplotlib->roboflow) (3.2.1)\n",
            "Requirement already satisfied: charset-normalizer<4,>=2 in d:\\projects\\the_predictors-100-sustain-ai-thon\\.venv\\lib\\site-packages (from requests->roboflow) (3.4.1)\n",
            "Downloading roboflow-1.1.51-py3-none-any.whl (81 kB)\n",
            "Downloading idna-3.7-py3-none-any.whl (66 kB)\n",
            "Downloading opencv_python_headless-4.10.0.84-cp37-abi3-win_amd64.whl (38.8 MB)\n",
            "   ---------------------------------------- 0.0/38.8 MB ? eta -:--:--\n",
            "    --------------------------------------- 0.5/38.8 MB 3.4 MB/s eta 0:00:12\n",
            "   - -------------------------------------- 1.0/38.8 MB 3.1 MB/s eta 0:00:12\n",
            "   - -------------------------------------- 1.8/38.8 MB 3.4 MB/s eta 0:00:11\n",
            "   -- ------------------------------------- 2.9/38.8 MB 3.7 MB/s eta 0:00:10\n",
            "   ---- ----------------------------------- 3.9/38.8 MB 3.9 MB/s eta 0:00:10\n",
            "   ----- ---------------------------------- 5.0/38.8 MB 4.1 MB/s eta 0:00:09\n",
            "   ------ --------------------------------- 6.3/38.8 MB 4.5 MB/s eta 0:00:08\n",
            "   -------- ------------------------------- 7.9/38.8 MB 4.9 MB/s eta 0:00:07\n",
            "   --------- ------------------------------ 9.2/38.8 MB 5.0 MB/s eta 0:00:06\n",
            "   ----------- ---------------------------- 10.7/38.8 MB 5.3 MB/s eta 0:00:06\n",
            "   ------------ --------------------------- 12.6/38.8 MB 5.6 MB/s eta 0:00:05\n",
            "   -------------- ------------------------- 13.9/38.8 MB 5.7 MB/s eta 0:00:05\n",
            "   --------------- ------------------------ 14.9/38.8 MB 5.7 MB/s eta 0:00:05\n",
            "   ----------------- ---------------------- 16.5/38.8 MB 5.7 MB/s eta 0:00:04\n",
            "   ------------------ --------------------- 17.8/38.8 MB 5.7 MB/s eta 0:00:04\n",
            "   ------------------- -------------------- 19.1/38.8 MB 5.8 MB/s eta 0:00:04\n",
            "   --------------------- ------------------ 20.7/38.8 MB 5.9 MB/s eta 0:00:04\n",
            "   ---------------------- ----------------- 22.0/38.8 MB 6.0 MB/s eta 0:00:03\n",
            "   ------------------------ --------------- 23.6/38.8 MB 6.1 MB/s eta 0:00:03\n",
            "   ------------------------- -------------- 25.2/38.8 MB 6.1 MB/s eta 0:00:03\n",
            "   --------------------------- ------------ 26.7/38.8 MB 6.2 MB/s eta 0:00:02\n",
            "   ---------------------------- ----------- 28.0/38.8 MB 6.2 MB/s eta 0:00:02\n",
            "   ------------------------------ --------- 29.9/38.8 MB 6.3 MB/s eta 0:00:02\n",
            "   -------------------------------- ------- 31.2/38.8 MB 6.3 MB/s eta 0:00:02\n",
            "   --------------------------------- ------ 32.8/38.8 MB 6.4 MB/s eta 0:00:01\n",
            "   ----------------------------------- ---- 34.1/38.8 MB 6.4 MB/s eta 0:00:01\n",
            "   ------------------------------------ --- 35.7/38.8 MB 6.4 MB/s eta 0:00:01\n",
            "   -------------------------------------- - 37.2/38.8 MB 6.5 MB/s eta 0:00:01\n",
            "   ---------------------------------------  38.3/38.8 MB 6.5 MB/s eta 0:00:01\n",
            "   ---------------------------------------- 38.8/38.8 MB 6.4 MB/s eta 0:00:00\n",
            "Downloading filetype-1.2.0-py2.py3-none-any.whl (19 kB)\n",
            "Downloading python_dotenv-1.0.1-py3-none-any.whl (19 kB)\n",
            "Downloading requests_toolbelt-1.0.0-py2.py3-none-any.whl (54 kB)\n",
            "Installing collected packages: filetype, python-dotenv, opencv-python-headless, idna, requests-toolbelt, roboflow\n",
            "  Attempting uninstall: idna\n",
            "    Found existing installation: idna 3.10\n",
            "    Uninstalling idna-3.10:\n",
            "      Successfully uninstalled idna-3.10\n",
            "Successfully installed filetype-1.2.0 idna-3.7 opencv-python-headless-4.10.0.84 python-dotenv-1.0.1 requests-toolbelt-1.0.0 roboflow-1.1.51\n",
            "loading Roboflow workspace...\n",
            "loading Roboflow project...\n"
          ]
        },
        {
          "name": "stderr",
          "output_type": "stream",
          "text": [
            "Downloading Dataset Version Zip in YOLO-Barcode-Detection-2 to yolov8:: 100%|██████████| 72170/72170 [00:14<00:00, 4893.95it/s]"
          ]
        },
        {
          "name": "stdout",
          "output_type": "stream",
          "text": [
            "\n"
          ]
        },
        {
          "name": "stderr",
          "output_type": "stream",
          "text": [
            "\n",
            "Extracting Dataset Version Zip to YOLO-Barcode-Detection-2 in yolov8:: 100%|██████████| 470/470 [00:00<00:00, 2655.22it/s]\n"
          ]
        },
        {
          "name": "stdout",
          "output_type": "stream",
          "text": [
            "Creating new Ultralytics Settings v0.0.6 file  \n",
            "View Ultralytics Settings with 'yolo settings' or at 'C:\\Users\\Admin\\AppData\\Roaming\\Ultralytics\\settings.json'\n",
            "Update Settings with 'yolo settings key=value', i.e. 'yolo settings runs_dir=path/to/dir'. For help see https://docs.ultralytics.com/quickstart/#ultralytics-settings.\n"
          ]
        }
      ],
      "source": [
        "!pip install roboflow\n",
        "\n",
        "from roboflow import Roboflow\n",
        "rf = Roboflow(api_key=\"jMllDEfAHGqPHhDJcN9I\")\n",
        "project = rf.workspace(\"yjj-sxvmn\").project(\"yolo-barcode-detection-ctau6\")\n",
        "version = project.version(2)\n",
        "dataset = version.download(\"yolov8\")\n"
      ]
    },
    {
      "cell_type": "code",
      "execution_count": 5,
      "metadata": {},
      "outputs": [
        {
          "name": "stdout",
          "output_type": "stream",
          "text": [
            "d:\\Projects\\THE_PREDICTORS-100-SUSTAIN-AI-THON\\YOLO-Barcode-Detection-2\n"
          ]
        }
      ],
      "source": [
        "import os\n",
        "\n",
        "print(os.path.abspath('YOLO-Barcode-Detection-2'))"
      ]
    },
    {
      "cell_type": "code",
      "execution_count": null,
      "metadata": {
        "colab": {
          "base_uri": "https://localhost:8080/",
          "height": 1000
        },
        "id": "Dz5Z-PbTobvP",
        "outputId": "70035260-8ac9-4474-cbca-8a4bf2216d03"
      },
      "outputs": [
        {
          "name": "stdout",
          "output_type": "stream",
          "text": [
            "Downloading https://github.com/ultralytics/assets/releases/download/v8.3.0/yolov8n.pt to 'yolov8n.pt'...\n"
          ]
        },
        {
          "name": "stderr",
          "output_type": "stream",
          "text": [
            "100%|██████████| 6.25M/6.25M [00:00<00:00, 7.80MB/s]\n"
          ]
        },
        {
          "name": "stdout",
          "output_type": "stream",
          "text": [
            "New https://pypi.org/project/ultralytics/8.3.67 available  Update with 'pip install -U ultralytics'\n",
            "Ultralytics 8.3.66  Python-3.12.3 torch-2.5.1+cpu CPU (12th Gen Intel Core(TM) i7-12700K)\n",
            "\u001b[34m\u001b[1mengine\\trainer: \u001b[0mtask=detect, mode=train, model=yolov8n.pt, data=d:\\Projects\\THE_PREDICTORS-100-SUSTAIN-AI-THON\\YOLO-Barcode-Detection-2\\data.yaml, epochs=50, time=None, patience=100, batch=16, imgsz=640, save=True, save_period=1, cache=False, device=None, workers=8, project=runs/train, name=barcode_detection, exist_ok=False, pretrained=True, optimizer=AdamW, verbose=True, seed=0, deterministic=True, single_cls=False, rect=False, cos_lr=False, close_mosaic=10, resume=False, amp=True, fraction=1.0, profile=False, freeze=None, multi_scale=False, overlap_mask=True, mask_ratio=4, dropout=0.0, val=True, split=val, save_json=False, save_hybrid=False, conf=None, iou=0.7, max_det=300, half=False, dnn=False, plots=True, source=None, vid_stride=1, stream_buffer=False, visualize=False, augment=False, agnostic_nms=False, classes=None, retina_masks=False, embed=None, show=False, save_frames=False, save_txt=False, save_conf=False, save_crop=False, show_labels=True, show_conf=True, show_boxes=True, line_width=None, format=torchscript, keras=False, optimize=False, int8=False, dynamic=False, simplify=True, opset=None, workspace=None, nms=False, lr0=0.01, lrf=0.01, momentum=0.937, weight_decay=0.0005, warmup_epochs=3.0, warmup_momentum=0.8, warmup_bias_lr=0.1, box=7.5, cls=0.5, dfl=1.5, pose=12.0, kobj=1.0, nbs=64, hsv_h=0.015, hsv_s=0.7, hsv_v=0.4, degrees=0.0, translate=0.1, scale=0.5, shear=0.0, perspective=0.0, flipud=0.0, fliplr=0.5, bgr=0.0, mosaic=1.0, mixup=0.0, copy_paste=0.0, copy_paste_mode=flip, auto_augment=randaugment, erasing=0.4, crop_fraction=1.0, cfg=None, tracker=botsort.yaml, save_dir=runs\\train\\barcode_detection\n",
            "Downloading https://ultralytics.com/assets/Arial.ttf to 'C:\\Users\\Admin\\AppData\\Roaming\\Ultralytics\\Arial.ttf'...\n"
          ]
        },
        {
          "name": "stderr",
          "output_type": "stream",
          "text": [
            "100%|██████████| 755k/755k [00:00<00:00, 7.79MB/s]"
          ]
        },
        {
          "name": "stdout",
          "output_type": "stream",
          "text": [
            "Overriding model.yaml nc=80 with nc=1\n",
            "\n",
            "                   from  n    params  module                                       arguments                     \n",
            "  0                  -1  1       464  ultralytics.nn.modules.conv.Conv             [3, 16, 3, 2]                 \n",
            "  1                  -1  1      4672  ultralytics.nn.modules.conv.Conv             [16, 32, 3, 2]                \n",
            "  2                  -1  1      7360  ultralytics.nn.modules.block.C2f             [32, 32, 1, True]             \n",
            "  3                  -1  1     18560  ultralytics.nn.modules.conv.Conv             [32, 64, 3, 2]                \n",
            "  4                  -1  2     49664  ultralytics.nn.modules.block.C2f             [64, 64, 2, True]             \n",
            "  5                  -1  1     73984  ultralytics.nn.modules.conv.Conv             [64, 128, 3, 2]               \n",
            "  6                  -1  2    197632  ultralytics.nn.modules.block.C2f             [128, 128, 2, True]           \n",
            "  7                  -1  1    295424  ultralytics.nn.modules.conv.Conv             [128, 256, 3, 2]              \n",
            "  8                  -1  1    460288  ultralytics.nn.modules.block.C2f             [256, 256, 1, True]           \n",
            "  9                  -1  1    164608  ultralytics.nn.modules.block.SPPF            [256, 256, 5]                 \n",
            " 10                  -1  1         0  torch.nn.modules.upsampling.Upsample         [None, 2, 'nearest']          \n",
            " 11             [-1, 6]  1         0  ultralytics.nn.modules.conv.Concat           [1]                           \n",
            " 12                  -1  1    148224  ultralytics.nn.modules.block.C2f             [384, 128, 1]                 \n",
            " 13                  -1  1         0  torch.nn.modules.upsampling.Upsample         [None, 2, 'nearest']          \n",
            " 14             [-1, 4]  1         0  ultralytics.nn.modules.conv.Concat           [1]                           \n",
            " 15                  -1  1     37248  ultralytics.nn.modules.block.C2f             [192, 64, 1]                  \n",
            " 16                  -1  1     36992  ultralytics.nn.modules.conv.Conv             [64, 64, 3, 2]                \n",
            " 17            [-1, 12]  1         0  ultralytics.nn.modules.conv.Concat           [1]                           \n",
            " 18                  -1  1    123648  ultralytics.nn.modules.block.C2f             [192, 128, 1]                 \n",
            " 19                  -1  1    147712  ultralytics.nn.modules.conv.Conv             [128, 128, 3, 2]              \n",
            " 20             [-1, 9]  1         0  ultralytics.nn.modules.conv.Concat           [1]                           \n",
            " 21                  -1  1    493056  ultralytics.nn.modules.block.C2f             [384, 256, 1]                 \n",
            " 22        [15, 18, 21]  1    751507  ultralytics.nn.modules.head.Detect           [1, [64, 128, 256]]           \n"
          ]
        },
        {
          "name": "stderr",
          "output_type": "stream",
          "text": [
            "\n"
          ]
        },
        {
          "name": "stdout",
          "output_type": "stream",
          "text": [
            "Model summary: 225 layers, 3,011,043 parameters, 3,011,027 gradients, 8.2 GFLOPs\n",
            "\n",
            "Transferred 319/355 items from pretrained weights\n",
            "Freezing layer 'model.22.dfl.conv.weight'\n"
          ]
        },
        {
          "name": "stderr",
          "output_type": "stream",
          "text": [
            "\u001b[34m\u001b[1mtrain: \u001b[0mScanning D:\\Projects\\THE_PREDICTORS-100-SUSTAIN-AI-THON\\YOLO-Barcode-Detection-2\\train\\labels... 191 images, 0 backgrounds, 0 corrupt: 100%|██████████| 191/191 [00:00<00:00, 681.80it/s]"
          ]
        },
        {
          "name": "stdout",
          "output_type": "stream",
          "text": [
            "\u001b[34m\u001b[1mtrain: \u001b[0mNew cache created: D:\\Projects\\THE_PREDICTORS-100-SUSTAIN-AI-THON\\YOLO-Barcode-Detection-2\\train\\labels.cache\n"
          ]
        },
        {
          "name": "stderr",
          "output_type": "stream",
          "text": [
            "\n",
            "\u001b[34m\u001b[1mval: \u001b[0mScanning D:\\Projects\\THE_PREDICTORS-100-SUSTAIN-AI-THON\\YOLO-Barcode-Detection-2\\valid\\labels... 37 images, 0 backgrounds, 0 corrupt: 100%|██████████| 37/37 [00:00<00:00, 721.41it/s]"
          ]
        },
        {
          "name": "stdout",
          "output_type": "stream",
          "text": [
            "\u001b[34m\u001b[1mval: \u001b[0mNew cache created: D:\\Projects\\THE_PREDICTORS-100-SUSTAIN-AI-THON\\YOLO-Barcode-Detection-2\\valid\\labels.cache\n"
          ]
        },
        {
          "name": "stderr",
          "output_type": "stream",
          "text": [
            "\n"
          ]
        },
        {
          "name": "stdout",
          "output_type": "stream",
          "text": [
            "Plotting labels to runs\\train\\barcode_detection\\labels.jpg... \n",
            "\u001b[34m\u001b[1moptimizer:\u001b[0m AdamW(lr=0.01, momentum=0.937) with parameter groups 57 weight(decay=0.0), 64 weight(decay=0.0005), 63 bias(decay=0.0)\n",
            "Image sizes 640 train, 640 val\n",
            "Using 0 dataloader workers\n",
            "Logging results to \u001b[1mruns\\train\\barcode_detection\u001b[0m\n",
            "Starting training for 50 epochs...\n",
            "\n",
            "      Epoch    GPU_mem   box_loss   cls_loss   dfl_loss  Instances       Size\n"
          ]
        },
        {
          "name": "stderr",
          "output_type": "stream",
          "text": [
            "       1/50         0G      1.388      1.756      1.489         35        640: 100%|██████████| 12/12 [00:27<00:00,  2.28s/it]\n",
            "                 Class     Images  Instances      Box(P          R      mAP50  mAP50-95): 100%|██████████| 2/2 [00:02<00:00,  1.13s/it]"
          ]
        },
        {
          "name": "stdout",
          "output_type": "stream",
          "text": [
            "                   all         37         38      0.153      0.184     0.0925     0.0241\n"
          ]
        },
        {
          "name": "stderr",
          "output_type": "stream",
          "text": [
            "\n"
          ]
        },
        {
          "name": "stdout",
          "output_type": "stream",
          "text": [
            "\n",
            "      Epoch    GPU_mem   box_loss   cls_loss   dfl_loss  Instances       Size\n"
          ]
        },
        {
          "name": "stderr",
          "output_type": "stream",
          "text": [
            "       2/50         0G      1.425      1.224      1.497         37        640: 100%|██████████| 12/12 [00:24<00:00,  2.01s/it]\n",
            "                 Class     Images  Instances      Box(P          R      mAP50  mAP50-95): 100%|██████████| 2/2 [00:01<00:00,  1.00it/s]"
          ]
        },
        {
          "name": "stdout",
          "output_type": "stream",
          "text": [
            "                   all         37         38      0.147      0.237      0.147     0.0654\n"
          ]
        },
        {
          "name": "stderr",
          "output_type": "stream",
          "text": [
            "\n"
          ]
        },
        {
          "name": "stdout",
          "output_type": "stream",
          "text": [
            "\n",
            "      Epoch    GPU_mem   box_loss   cls_loss   dfl_loss  Instances       Size\n"
          ]
        },
        {
          "name": "stderr",
          "output_type": "stream",
          "text": [
            "       3/50         0G      1.532      1.148      1.484         42        640: 100%|██████████| 12/12 [00:24<00:00,  2.05s/it]\n",
            "                 Class     Images  Instances      Box(P          R      mAP50  mAP50-95): 100%|██████████| 2/2 [00:02<00:00,  1.01s/it]"
          ]
        },
        {
          "name": "stdout",
          "output_type": "stream",
          "text": [
            "                   all         37         38     0.0574      0.579     0.0504     0.0154\n"
          ]
        },
        {
          "name": "stderr",
          "output_type": "stream",
          "text": [
            "\n"
          ]
        },
        {
          "name": "stdout",
          "output_type": "stream",
          "text": [
            "\n",
            "      Epoch    GPU_mem   box_loss   cls_loss   dfl_loss  Instances       Size\n"
          ]
        },
        {
          "name": "stderr",
          "output_type": "stream",
          "text": [
            "       4/50         0G      1.505       1.11       1.53         26        640: 100%|██████████| 12/12 [00:25<00:00,  2.14s/it]\n",
            "                 Class     Images  Instances      Box(P          R      mAP50  mAP50-95): 100%|██████████| 2/2 [00:02<00:00,  1.10s/it]"
          ]
        },
        {
          "name": "stdout",
          "output_type": "stream",
          "text": [
            "                   all         37         38     0.0117      0.553    0.00897    0.00257\n"
          ]
        },
        {
          "name": "stderr",
          "output_type": "stream",
          "text": [
            "\n"
          ]
        },
        {
          "name": "stdout",
          "output_type": "stream",
          "text": [
            "\n",
            "      Epoch    GPU_mem   box_loss   cls_loss   dfl_loss  Instances       Size\n"
          ]
        },
        {
          "name": "stderr",
          "output_type": "stream",
          "text": [
            "       5/50         0G      1.495      1.048      1.496         34        640:  33%|███▎      | 4/12 [00:08<00:17,  2.21s/it]"
          ]
        }
      ],
      "source": [
        "from ultralytics import YOLO\n",
        "from tqdm import tqdm\n",
        "import os\n",
        "\n",
        "\n",
        "# Paths to data\n",
        "DATA_YAML_PATH = os.path.abspath('YOLO-Barcode-Detection-2/data.yaml')  # Replace with your dataset YAML file path\n",
        "PRETRAINED_MODEL_PATH = \"yolov8n.pt\"  # Using YOLOv8 nano as the base model\n",
        "OUTPUT_DIR = \"runs/train\"\n",
        "\n",
        "# Initialize the YOLO model\n",
        "model = YOLO(PRETRAINED_MODEL_PATH)\n",
        "\n",
        "# Train the YOLO model\n",
        "train_results = model.train(\n",
        "    data=DATA_YAML_PATH,\n",
        "    epochs=50,                # Number of training epochs\n",
        "    batch=16,                 # Batch size\n",
        "    imgsz=640,                # Image size\n",
        "    project=OUTPUT_DIR,       # Output directory\n",
        "    name=\"barcode_detection\",  # Experiment name\n",
        "    optimizer=\"AdamW\",       # Optimizer for better convergence\n",
        "    save_period=1             # Save model after every epoch\n",
        ")\n",
        "\n",
        "# Evaluate the trained model on the validation set using tqdm for progress\n",
        "print(\"\\nEvaluating model on validation data...\")\n",
        "results = []\n",
        "\n",
        "for val_image in tqdm(model.val(data=DATA_YAML_PATH), desc=\"Validation Progress\"):\n",
        "    results.append(val_image)\n",
        "\n",
        "# Save the model with the best accuracy\n",
        "best_model_path = f\"{OUTPUT_DIR}/barcode_detection/weights/best.pt\"\n",
        "model.export(format=\"torchscript\", dynamic=True, path=best_model_path)\n",
        "print(f\"Best model saved to: {best_model_path}\")\n",
        "\n",
        "# Test the YOLO model\n",
        "TEST_IMAGES_PATH = \"../test/images\"  # Path to test images\n",
        "test_results = model.predict(source=TEST_IMAGES_PATH, save_txt=True, save_conf=True)\n",
        "\n",
        "print(\"\\nTesting completed.\")\n",
        "print(f\"Predictions saved to: {OUTPUT_DIR}/barcode_detection/predict\")\n"
      ]
    }
  ],
  "metadata": {
    "accelerator": "GPU",
    "colab": {
      "gpuType": "T4",
      "provenance": []
    },
    "kernelspec": {
      "display_name": ".venv",
      "language": "python",
      "name": "python3"
    },
    "language_info": {
      "codemirror_mode": {
        "name": "ipython",
        "version": 3
      },
      "file_extension": ".py",
      "mimetype": "text/x-python",
      "name": "python",
      "nbconvert_exporter": "python",
      "pygments_lexer": "ipython3",
      "version": "3.12.3"
    }
  },
  "nbformat": 4,
  "nbformat_minor": 0
}
